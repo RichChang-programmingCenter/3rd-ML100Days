{
 "cells": [
  {
   "cell_type": "markdown",
   "metadata": {
    "collapsed": true
   },
   "source": [
    "# 作業 : (Kaggle)鐵達尼生存預測\n",
    "https://www.kaggle.com/c/titanic"
   ]
  },
  {
   "cell_type": "markdown",
   "metadata": {},
   "source": [
    "# [作業目標]\n",
    "- 試著模仿範例寫法, 在鐵達尼生存預測中, 觀察標籤編碼與獨編碼熱的影響\n",
    "- 比較 col selection: (Day_012_HW: numeric) V.S (Day_024_HW: object)\n"
   ]
  },
  {
   "cell_type": "markdown",
   "metadata": {},
   "source": [
    "# [作業重點]\n",
    "- 回答在範例中的觀察結果\n",
    "- 觀察標籤編碼與獨熱編碼, 在特徵數量 / 邏輯斯迴歸分數 / 邏輯斯迴歸時間上, 分別有什麼影響 (In[3], Out[3], In[4], Out[4]) "
   ]
  },
  {
   "cell_type": "markdown",
   "metadata": {
    "collapsed": true
   },
   "source": [
    "# 作業1\n",
    "* 觀察範例，在房價預測中調整標籤編碼(Label Encoder) / 獨熱編碼 (One Hot Encoder) 方式，對於線性迴歸以及梯度提升樹兩種模型，何者影響比較大?\n",
    "* 答：由例題的One hot encoding + linear regression組合score 為負，及使用linear都不過score:0.7，可知此模型使用線性迴歸影響頗大\n",
    "\n",
    "* 註：Label Encoding: 小量且數值多 / Tree Model\n",
    "  One Hot Encoding: 大量且特徵重要性高 / DL\n",
    "  通常作法如上，house price 算是資料量大，但類別特徵重要性不大，我會選擇使用Label Encoding 找到最佳解\n"
   ]
  },
  {
   "cell_type": "code",
   "execution_count": 13,
   "metadata": {},
   "outputs": [
    {
     "data": {
      "text/html": [
       "<div>\n",
       "<style scoped>\n",
       "    .dataframe tbody tr th:only-of-type {\n",
       "        vertical-align: middle;\n",
       "    }\n",
       "\n",
       "    .dataframe tbody tr th {\n",
       "        vertical-align: top;\n",
       "    }\n",
       "\n",
       "    .dataframe thead th {\n",
       "        text-align: right;\n",
       "    }\n",
       "</style>\n",
       "<table border=\"1\" class=\"dataframe\">\n",
       "  <thead>\n",
       "    <tr style=\"text-align: right;\">\n",
       "      <th></th>\n",
       "      <th>Pclass</th>\n",
       "      <th>Name</th>\n",
       "      <th>Sex</th>\n",
       "      <th>Age</th>\n",
       "      <th>SibSp</th>\n",
       "      <th>Parch</th>\n",
       "      <th>Ticket</th>\n",
       "      <th>Fare</th>\n",
       "      <th>Cabin</th>\n",
       "      <th>Embarked</th>\n",
       "    </tr>\n",
       "  </thead>\n",
       "  <tbody>\n",
       "    <tr>\n",
       "      <th>0</th>\n",
       "      <td>3</td>\n",
       "      <td>Braund, Mr. Owen Harris</td>\n",
       "      <td>male</td>\n",
       "      <td>22.0</td>\n",
       "      <td>1</td>\n",
       "      <td>0</td>\n",
       "      <td>A/5 21171</td>\n",
       "      <td>7.2500</td>\n",
       "      <td>NaN</td>\n",
       "      <td>S</td>\n",
       "    </tr>\n",
       "    <tr>\n",
       "      <th>1</th>\n",
       "      <td>1</td>\n",
       "      <td>Cumings, Mrs. John Bradley (Florence Briggs Th...</td>\n",
       "      <td>female</td>\n",
       "      <td>38.0</td>\n",
       "      <td>1</td>\n",
       "      <td>0</td>\n",
       "      <td>PC 17599</td>\n",
       "      <td>71.2833</td>\n",
       "      <td>C85</td>\n",
       "      <td>C</td>\n",
       "    </tr>\n",
       "    <tr>\n",
       "      <th>2</th>\n",
       "      <td>3</td>\n",
       "      <td>Heikkinen, Miss. Laina</td>\n",
       "      <td>female</td>\n",
       "      <td>26.0</td>\n",
       "      <td>0</td>\n",
       "      <td>0</td>\n",
       "      <td>STON/O2. 3101282</td>\n",
       "      <td>7.9250</td>\n",
       "      <td>NaN</td>\n",
       "      <td>S</td>\n",
       "    </tr>\n",
       "    <tr>\n",
       "      <th>3</th>\n",
       "      <td>1</td>\n",
       "      <td>Futrelle, Mrs. Jacques Heath (Lily May Peel)</td>\n",
       "      <td>female</td>\n",
       "      <td>35.0</td>\n",
       "      <td>1</td>\n",
       "      <td>0</td>\n",
       "      <td>113803</td>\n",
       "      <td>53.1000</td>\n",
       "      <td>C123</td>\n",
       "      <td>S</td>\n",
       "    </tr>\n",
       "    <tr>\n",
       "      <th>4</th>\n",
       "      <td>3</td>\n",
       "      <td>Allen, Mr. William Henry</td>\n",
       "      <td>male</td>\n",
       "      <td>35.0</td>\n",
       "      <td>0</td>\n",
       "      <td>0</td>\n",
       "      <td>373450</td>\n",
       "      <td>8.0500</td>\n",
       "      <td>NaN</td>\n",
       "      <td>S</td>\n",
       "    </tr>\n",
       "  </tbody>\n",
       "</table>\n",
       "</div>"
      ],
      "text/plain": [
       "   Pclass                                               Name     Sex   Age  \\\n",
       "0       3                            Braund, Mr. Owen Harris    male  22.0   \n",
       "1       1  Cumings, Mrs. John Bradley (Florence Briggs Th...  female  38.0   \n",
       "2       3                             Heikkinen, Miss. Laina  female  26.0   \n",
       "3       1       Futrelle, Mrs. Jacques Heath (Lily May Peel)  female  35.0   \n",
       "4       3                           Allen, Mr. William Henry    male  35.0   \n",
       "\n",
       "   SibSp  Parch            Ticket     Fare Cabin Embarked  \n",
       "0      1      0         A/5 21171   7.2500   NaN        S  \n",
       "1      1      0          PC 17599  71.2833   C85        C  \n",
       "2      0      0  STON/O2. 3101282   7.9250   NaN        S  \n",
       "3      1      0            113803  53.1000  C123        S  \n",
       "4      0      0            373450   8.0500   NaN        S  "
      ]
     },
     "execution_count": 13,
     "metadata": {},
     "output_type": "execute_result"
    }
   ],
   "source": [
    "# 做完特徵工程前的所有準備 (與前範例相同)\n",
    "import pandas as pd\n",
    "import numpy as np\n",
    "import copy, time\n",
    "from sklearn.preprocessing import MinMaxScaler, LabelEncoder\n",
    "from sklearn.model_selection import cross_val_score\n",
    "from sklearn.linear_model import LinearRegression, LogisticRegression\n",
    "from sklearn.ensemble import GradientBoostingRegressor\n",
    "\n",
    "# Load and recombine data\n",
    "data_path = 'C:/Users/rich chang/Documents/GitHub/3rd-ML100Days/data/'\n",
    "training_set = pd.read_csv(data_path + 'titanic_train.csv')\n",
    "testing_set = pd.read_csv(data_path + 'titanic_test.csv')\n",
    "\n",
    "Y_train = training_set['Survived']\n",
    "training_set = training_set.drop(['PassengerId', 'Survived'] , axis=1)\n",
    "testing_set = testing_set.drop(['PassengerId'] , axis=1)\n",
    "\n",
    "dataset = pd.concat([training_set, testing_set])\n",
    "dataset.head()\n"
   ]
  },
  {
   "cell_type": "code",
   "execution_count": 14,
   "metadata": {},
   "outputs": [
    {
     "name": "stdout",
     "output_type": "stream",
     "text": [
      "5 Object Features : ['Name', 'Sex', 'Ticket', 'Cabin', 'Embarked']\n",
      "\n"
     ]
    },
    {
     "data": {
      "text/html": [
       "<div>\n",
       "<style scoped>\n",
       "    .dataframe tbody tr th:only-of-type {\n",
       "        vertical-align: middle;\n",
       "    }\n",
       "\n",
       "    .dataframe tbody tr th {\n",
       "        vertical-align: top;\n",
       "    }\n",
       "\n",
       "    .dataframe thead th {\n",
       "        text-align: right;\n",
       "    }\n",
       "</style>\n",
       "<table border=\"1\" class=\"dataframe\">\n",
       "  <thead>\n",
       "    <tr style=\"text-align: right;\">\n",
       "      <th></th>\n",
       "      <th>Name</th>\n",
       "      <th>Sex</th>\n",
       "      <th>Ticket</th>\n",
       "      <th>Cabin</th>\n",
       "      <th>Embarked</th>\n",
       "    </tr>\n",
       "  </thead>\n",
       "  <tbody>\n",
       "    <tr>\n",
       "      <th>0</th>\n",
       "      <td>Braund, Mr. Owen Harris</td>\n",
       "      <td>male</td>\n",
       "      <td>A/5 21171</td>\n",
       "      <td>None</td>\n",
       "      <td>S</td>\n",
       "    </tr>\n",
       "    <tr>\n",
       "      <th>1</th>\n",
       "      <td>Cumings, Mrs. John Bradley (Florence Briggs Th...</td>\n",
       "      <td>female</td>\n",
       "      <td>PC 17599</td>\n",
       "      <td>C85</td>\n",
       "      <td>C</td>\n",
       "    </tr>\n",
       "    <tr>\n",
       "      <th>2</th>\n",
       "      <td>Heikkinen, Miss. Laina</td>\n",
       "      <td>female</td>\n",
       "      <td>STON/O2. 3101282</td>\n",
       "      <td>None</td>\n",
       "      <td>S</td>\n",
       "    </tr>\n",
       "    <tr>\n",
       "      <th>3</th>\n",
       "      <td>Futrelle, Mrs. Jacques Heath (Lily May Peel)</td>\n",
       "      <td>female</td>\n",
       "      <td>113803</td>\n",
       "      <td>C123</td>\n",
       "      <td>S</td>\n",
       "    </tr>\n",
       "    <tr>\n",
       "      <th>4</th>\n",
       "      <td>Allen, Mr. William Henry</td>\n",
       "      <td>male</td>\n",
       "      <td>373450</td>\n",
       "      <td>None</td>\n",
       "      <td>S</td>\n",
       "    </tr>\n",
       "  </tbody>\n",
       "</table>\n",
       "</div>"
      ],
      "text/plain": [
       "                                                Name     Sex  \\\n",
       "0                            Braund, Mr. Owen Harris    male   \n",
       "1  Cumings, Mrs. John Bradley (Florence Briggs Th...  female   \n",
       "2                             Heikkinen, Miss. Laina  female   \n",
       "3       Futrelle, Mrs. Jacques Heath (Lily May Peel)  female   \n",
       "4                           Allen, Mr. William Henry    male   \n",
       "\n",
       "             Ticket Cabin Embarked  \n",
       "0         A/5 21171  None        S  \n",
       "1          PC 17599   C85        C  \n",
       "2  STON/O2. 3101282  None        S  \n",
       "3            113803  C123        S  \n",
       "4            373450  None        S  "
      ]
     },
     "execution_count": 14,
     "metadata": {},
     "output_type": "execute_result"
    }
   ],
   "source": [
    "#只取類別值 (object) 型欄位, 存於 object_features 中\n",
    "object_features = []\n",
    "\n",
    "for dtype, feature in zip(dataset.dtypes, dataset.columns):\n",
    "    if dtype == 'object':\n",
    "        object_features.append(feature)\n",
    "        \n",
    "print(f'{len(object_features)} Object Features : {object_features}\\n')\n",
    "\n",
    "# 只留類別型欄位\n",
    "dataset = dataset[object_features]\n",
    "dataset = dataset.fillna('None')\n",
    "train_num = Y_train.shape[0]\n",
    "dataset.head()\n"
   ]
  },
  {
   "cell_type": "markdown",
   "metadata": {
    "collapsed": true
   },
   "source": [
    "# 作業2(6種組合: 3regressions ,2encodings)\n",
    "* 鐵達尼號例題中，標籤編碼 / 獨熱編碼又分別對預測結果有何影響? (Hint : 參考今日範例)\n",
    "* 答：Label Encoding有score 78，但One hot encoding 整個只剩40，影響更鉅。 \n",
    "- 反倒Gradient tree boosting 相較linear regression, logistic regression 影響小的很多\n",
    "- 作業 titanic 資料不算特多(400, 500筆)，但又有幾個特徵重要性高的類別特徵，需要都去試試，取最好的值\n"
   ]
  },
  {
   "cell_type": "code",
   "execution_count": 15,
   "metadata": {},
   "outputs": [
    {
     "name": "stdout",
     "output_type": "stream",
     "text": [
      "shape : (891, 5)\n",
      "score : 0.33494273995838764\n",
      "time : 0.04175400733947754 sec\n"
     ]
    }
   ],
   "source": [
    "# Label encoding + linear regression\n",
    "dataset_temp = pd.DataFrame()\n",
    "\n",
    "for i in dataset.columns:\n",
    "    dataset_temp[i] = LabelEncoder().fit_transform(dataset[i])\n",
    "\n",
    "X_train = dataset_temp[:train_num]\n",
    "estimator = LinearRegression()\n",
    "start = time.time()\n",
    "\n",
    "print(f'shape : {X_train.shape}')\n",
    "print(f'score : {cross_val_score(estimator, X_train, Y_train, cv=5).mean()}')\n",
    "print(f'time : {time.time() - start} sec')\n"
   ]
  },
  {
   "cell_type": "code",
   "execution_count": 16,
   "metadata": {},
   "outputs": [
    {
     "name": "stdout",
     "output_type": "stream",
     "text": [
      "shape : (891, 2429)\n",
      "score : 0.4130754436483536\n",
      "time : 1.3986051082611084 sec\n"
     ]
    }
   ],
   "source": [
    "# One hot encoding + linear regression\n",
    "dataset_temp = pd.get_dummies(dataset)\n",
    "\n",
    "X_train = dataset_temp[:train_num]\n",
    "estimator = LinearRegression()\n",
    "start = time.time()\n",
    "\n",
    "print(f'shape : {X_train.shape}')\n",
    "print(f'score : {cross_val_score(estimator, X_train, Y_train, cv=5).mean()}')\n",
    "print(f'time : {time.time() - start} sec')\n"
   ]
  },
  {
   "cell_type": "code",
   "execution_count": 17,
   "metadata": {},
   "outputs": [
    {
     "name": "stdout",
     "output_type": "stream",
     "text": [
      "shape : (891, 5)\n",
      "score : 0.780004837244799\n",
      "time : 0.05775308609008789 sec\n"
     ]
    }
   ],
   "source": [
    "# Label encoding + logistic regression\n",
    "dataset_temp = pd.DataFrame()\n",
    "\n",
    "for i in dataset.columns:\n",
    "    dataset_temp[i] = LabelEncoder().fit_transform(dataset[i])\n",
    "\n",
    "X_train = dataset_temp[:train_num]\n",
    "estimator = LogisticRegression(solver='liblinear')\n",
    "start = time.time()\n",
    "\n",
    "print(f'shape : {X_train.shape}')\n",
    "print(f'score : {cross_val_score(estimator, X_train, Y_train, cv=5).mean()}')\n",
    "print(f'time : {time.time() - start} sec')\n"
   ]
  },
  {
   "cell_type": "code",
   "execution_count": 18,
   "metadata": {},
   "outputs": [
    {
     "name": "stdout",
     "output_type": "stream",
     "text": [
      "shape : (891, 2429)\n",
      "score : 0.4130754436483536\n",
      "time : 1.384765863418579 sec\n"
     ]
    }
   ],
   "source": [
    "# One hot encoding + logistic regression\n",
    "dataset_temp = pd.get_dummies(dataset)\n",
    "\n",
    "X_train = dataset_temp[:train_num]\n",
    "estimator = LinearRegression()\n",
    "start = time.time()\n",
    "\n",
    "print(f'shape : {X_train.shape}')\n",
    "print(f'score : {cross_val_score(estimator, X_train, Y_train, cv=5).mean()}')\n",
    "print(f'time : {time.time() - start} sec')\n"
   ]
  },
  {
   "cell_type": "code",
   "execution_count": 19,
   "metadata": {},
   "outputs": [
    {
     "name": "stdout",
     "output_type": "stream",
     "text": [
      "shape : (891, 5)\n",
      "score : 0.37814706577577406\n",
      "time : 0.3826112747192383 sec\n"
     ]
    }
   ],
   "source": [
    "# Label encoding + Gradient tree boosting\n",
    "dataset_temp = pd.DataFrame()\n",
    "\n",
    "for i in dataset.columns:\n",
    "    dataset_temp[i] = LabelEncoder().fit_transform(dataset[i])\n",
    "    \n",
    "X_train = dataset_temp[:train_num]\n",
    "estimator = GradientBoostingRegressor()\n",
    "start = time.time()\n",
    "print(f'shape : {X_train.shape}')\n",
    "print(f'score : {cross_val_score(estimator, X_train, Y_train, cv=5).mean()}')\n",
    "print(f'time : {time.time() - start} sec')\n"
   ]
  },
  {
   "cell_type": "code",
   "execution_count": 20,
   "metadata": {},
   "outputs": [
    {
     "name": "stdout",
     "output_type": "stream",
     "text": [
      "shape : (891, 2429)\n",
      "score : 0.3772352131371055\n",
      "time : 13.727847337722778 sec\n"
     ]
    }
   ],
   "source": [
    "# One hot encoding + Gradient tree boosting\n",
    "dataset_temp = pd.get_dummies(dataset)\n",
    "X_train = dataset_temp[:train_num]\n",
    "estimator = GradientBoostingRegressor()\n",
    "start = time.time()\n",
    "print(f'shape : {X_train.shape}')\n",
    "print(f'score : {cross_val_score(estimator, X_train, Y_train, cv=5).mean()}')\n",
    "print(f'time : {time.time() - start} sec')\n"
   ]
  },
  {
   "cell_type": "code",
   "execution_count": null,
   "metadata": {},
   "outputs": [],
   "source": []
  }
 ],
 "metadata": {
  "kernelspec": {
   "display_name": "Python 3",
   "language": "python",
   "name": "python3"
  },
  "language_info": {
   "codemirror_mode": {
    "name": "ipython",
    "version": 3
   },
   "file_extension": ".py",
   "mimetype": "text/x-python",
   "name": "python",
   "nbconvert_exporter": "python",
   "pygments_lexer": "ipython3",
   "version": "3.7.3"
  }
 },
 "nbformat": 4,
 "nbformat_minor": 2
}
