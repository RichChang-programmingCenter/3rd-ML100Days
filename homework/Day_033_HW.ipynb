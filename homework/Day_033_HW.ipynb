{
 "cells": [
  {
   "cell_type": "markdown",
   "metadata": {},
   "source": [
    "## 練習時間"
   ]
  },
  {
   "cell_type": "markdown",
   "metadata": {},
   "source": [
    "請觀看李宏毅教授以神奇寶貝進化 CP 值預測的範例，解說何謂機器學習與過擬合。並回答以下問題"
   ]
  },
  {
   "cell_type": "markdown",
   "metadata": {},
   "source": [
    "[youtube](https://www.youtube.com/watch?v=fegAeph9UaA)\n",
    "* source: https://developers.google.com/machine-learning/crash-course/generalization/video-lecture\n"
   ]
  },
  {
   "cell_type": "markdown",
   "metadata": {},
   "source": [
    "過擬合: 複雜模型在training data上有好結果，但在testing data不見得能有好的結果，甚至結果很不理想\n",
    "\n",
    "### 1. 模型的泛化能力 (generalization) 是指什麼？ \n",
    "#### 模型泛化能力表現在模型適應新環境上，能夠將之前未見過的資料，仍能在模型中確實分類的能力。我們能夠從經驗上，一個一個不斷去試，驗證結果的好壞。\n",
    "#### (1) independently and identically (i.i.d): 資料不容易受偏差值影響\n",
    "#### (2) 分布非常穩定，不會一直改變，因此鎖定同一份資料集\n",
    "#### (3) 但實際上不會鎖定同一份資料集，像是客戶每一季的消費資料，我們可能的所有假設都有可能影響到特徵\n",
    "\n",
    "### 2. 分類問題與回歸問題分別可用的目標函數有哪些？\n",
    "#### 參數調整的函數、平滑曲線、不考慮bias的regularization函數\n",
    "\n"
   ]
  },
  {
   "cell_type": "code",
   "execution_count": null,
   "metadata": {},
   "outputs": [],
   "source": []
  }
 ],
 "metadata": {
  "kernelspec": {
   "display_name": "Python 3",
   "language": "python",
   "name": "python3"
  },
  "language_info": {
   "codemirror_mode": {
    "name": "ipython",
    "version": 3
   },
   "file_extension": ".py",
   "mimetype": "text/x-python",
   "name": "python",
   "nbconvert_exporter": "python",
   "pygments_lexer": "ipython3",
   "version": "3.7.3"
  }
 },
 "nbformat": 4,
 "nbformat_minor": 2
}
