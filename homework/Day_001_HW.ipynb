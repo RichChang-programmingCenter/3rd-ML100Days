{
 "cells": [
  {
   "cell_type": "markdown",
   "metadata": {},
   "source": [
    "## 練習時間\n",
    "#### 請寫一個函式用來計算 Mean Square Error\n",
    "$ MSE = \\frac{1}{n}\\sum_{i=1}^{n}{(Y_i - \\hat{Y}_i)^2} $\n",
    "\n",
    "### Hint: [如何取平方](https://googoodesign.gitbooks.io/-ezpython/unit-1.html)"
   ]
  },
  {
   "cell_type": "markdown",
   "metadata": {},
   "source": [
    "# [作業目標]\n",
    "- 仿造範例的MAE函數, 自己寫一個MSE函數(參考上面公式)"
   ]
  },
  {
   "cell_type": "markdown",
   "metadata": {},
   "source": [
    "# [作業重點]\n",
    "- 注意程式的縮排\n",
    "- 是否能將數學公式, 轉換為 Python 的函式組合? (In[2], Out[2])"
   ]
  },
  {
   "cell_type": "code",
   "execution_count": 12,
   "metadata": {},
   "outputs": [],
   "source": [
    "# 載入基礎套件與代稱\n",
    "import numpy as np\n",
    "import matplotlib.pyplot as plt"
   ]
  },
  {
   "cell_type": "code",
   "execution_count": 13,
   "metadata": {},
   "outputs": [
    {
     "name": "stdout",
     "output_type": "stream",
     "text": [
      "The Mean absolute error is 10.320\n",
      "The Mean absolute error is 173.677\n"
     ]
    }
   ],
   "source": [
    "# MAE\n",
    "def mean_absolute_error(y, yp):\n",
    "    mae = MAE = sum(abs(y - yp)) / len(y)\n",
    "    return mae\n",
    "\n",
    "MAE = mean_absolute_error(y, y_hat)\n",
    "print(\"The Mean absolute error is %.3f\" % (MAE))\n",
    "\n",
    "# import math\n",
    "# MSE:\n",
    "def mean_squared_error(y, yp):\n",
    "    mse = MSE = sum((y - yp) ** 2) / len(y)\n",
    "    return mse\n",
    "\n",
    "MSE = mean_squared_error(y, y_hat)\n",
    "print(\"The Mean absolute error is %.3f\" % (MSE))\n"
   ]
  },
  {
   "cell_type": "code",
   "execution_count": 14,
   "metadata": {},
   "outputs": [
    {
     "data": {
      "image/png": "[encoded data removed]",
      "text/plain": [
       "<Figure size 432x288 with 1 Axes>"
      ]
     },
     "metadata": {
      "needs_background": "light"
     },
     "output_type": "display_data"
    }
   ],
   "source": [
    "# 與範例相同, 不另外解說\n",
    "w = 3\n",
    "b = 0.5\n",
    "x_lin = np.linspace(0, 100, 101)\n",
    "y = (x_lin + np.random.randn(101) * 5) * w + b\n",
    "\n",
    "plt.plot(x_lin, y, 'b.', label = 'data points')\n",
    "plt.title(\"Assume we have data points\")\n",
    "plt.legend(loc = 2)\n",
    "plt.show()"
   ]
  },
  {
   "cell_type": "code",
   "execution_count": 15,
   "metadata": {},
   "outputs": [
    {
     "data": {
      "image/png": "[encoded data removed]",
      "text/plain": [
       "<Figure size 432x288 with 1 Axes>"
      ]
     },
     "metadata": {
      "needs_background": "light"
     },
     "output_type": "display_data"
    }
   ],
   "source": [
    "# 與範例相同, 不另外解說\n",
    "y_hat = x_lin * w + b\n",
    "plt.plot(x_lin, y, 'b.', label = 'data')\n",
    "plt.plot(x_lin, y_hat, 'r-', label = 'prediction')\n",
    "plt.title(\"Assume we have data points (And the prediction)\")\n",
    "plt.legend(loc = 2)\n",
    "plt.show()"
   ]
  },
  {
   "cell_type": "code",
   "execution_count": 16,
   "metadata": {},
   "outputs": [
    {
     "name": "stdout",
     "output_type": "stream",
     "text": [
      "The Mean squared error is 219.926\n",
      "The Mean absolute error is 11.968\n"
     ]
    }
   ],
   "source": [
    "# 執行 Function, 確認有沒有正常執行\n",
    "MSE = mean_squared_error(y, y_hat)\n",
    "MAE = mean_absolute_error(y, y_hat)\n",
    "print(\"The Mean squared error is %.3f\" % (MSE))\n",
    "print(\"The Mean absolute error is %.3f\" % (MAE))"
   ]
  },
  {
   "cell_type": "markdown",
   "metadata": {},
   "source": [
    "# [作業2]\n",
    "\n",
    "我在Kaggle 的Dataset 中，找到一個名為｢Trending Youtube Video Statistics｣中的US.csv\n",
    "\n",
    "#1. 你選的這組資料為何重要\n",
    "\n",
    "透過多變數的資料分析，很多受眾在某個時刻的互動全部在後端一一被記錄、檢視，平常這些視頻，Youtube後臺倚賴的算法能以此為數據，能依照用戶偏好、搜索性質，調整用戶搜索到的順序，及用戶被推薦的視頻，將不同受眾做分層，打造並養成用戶個別合乎自己習慣的觀看模式，甚至能預測下一個網紅的誕生。\n",
    "\n",
    "\n",
    "#2. 資料從何而來 (tips: 譬如提供者是誰、以什麼方式蒐集)\n",
    "\n",
    "這是根據Youtube 平台上最佳點閱影片跑出來的表格，Youtube 根據觀看、分享、回覆、按讚次數去了解用戶和頻道的交流程度。這筆資料為某日美國Youtube的某幾支影片的點閱情況。\n",
    "\n",
    "\n",
    "#3. 蒐集而來的資料型態為何\n",
    "\n",
    "video_id(String)、trending_date(String)、title(String)、channel_title(String)、categorial_id(ID)、publish_time(Date)、tags(String)、views(Integer)、likes(Integer)、dislikes(Integer)、comment_count(Integer)、thumbnail_link(URL)、comments_disabled(Boolean)、ratings_disabled(Boolean)、video_error_or_removed(Boolean)、description(String)\n",
    "\n",
    "\n",
    "#4. 這組資料想解決的問題如何評估\n",
    "\n",
    "(1) 透過用戶情緒整合分析\\n\n",
    "\n",
    "(2) 根據回應和數據分類用戶層\\n\n",
    "\n",
    "(3) 訓練機器學習演算法產生的回覆和用戶的實際回應對比\\n\n",
    "\n",
    "(4) 分析一部點評高影片的可能竄紅原因\\n\n",
    "\n",
    "(5) 想了解用戶點開或略過視頻的動機，是否和後端的算法有誤差，這有可能造成視聽者對平台影片的收看點閱率降低等等\\n\n",
    "\n",
    "\n",
    "\n",
    "# [作業3]\n",
    "\n",
    "想像你經營一個自由載客車隊，你希望能透過數據分析以提升業績，請你思考並描述你如何規劃整體的分析/解決方案：\n",
    "\n",
    "#1. 核心問題為何 (tips：如何定義 「提升業績 & 你的假設」)\n",
    "\n",
    "作為「提升業績」的解決方案，我試著將焦點聚焦在業績上。不難理解業績的成長或衰退，反映在載客量上：（當我假設每一筆的載客費用都相同時，若載客量多，則業績增長），所以要提升業績就要提升載客量。\n",
    "\n",
    "\n",
    "#2. 資料從何而來 (tips：哪些資料可能會對你想問的問題產生影響 & 資料如何蒐集)\n",
    "\n",
    "不能完全肯定只要載客量大，必然反映在業績上──在現實面，還要考慮每一筆載客資料的詳細內容：載客人潮密集度、高峰或假期運輸時段的影響等；該乘客搭乘記錄的里程數、時數等（該車的耗油量、車齡，會造成維修成本的差異）。透過data engineers將以上資料每一項作為變數抓入數據庫，然後再去分析。另外，較不能反映的是（難以計價的）包括整體服務品質、車隊整體形象、車輛舒適度、叫車便利性等，或許能試著量化去討論（量表分析）。\n",
    "\n",
    "\n",
    "#3. 蒐集而來的資料型態為何\n",
    "\n",
    "由第二小題，資料型態為：\n",
    "Date: 載客時間點、空車時段\n",
    "Double: 乘客上車地點周遭人流密集度、里程數、時數\n",
    "Int: 載客量、服務品質、車輛舒適度、叫車便利性\n",
    "\n",
    "\n",
    "#4. 你要回答的問題，其如何評估 (tips：你的假設如何驗證)\n",
    "\n",
    "我的假設是：每一筆的載客費用都近乎雷同時，載客量越多，則業績越好。這是反映在盈餘上，但隱含的是更多的變數（載客距離、載客時間……），等於是不能再單以載客量作為唯一變數，要分析的是更多潛在因素，甚至分析出來載客時間成為影響最大的變數。以回歸角度而言，加入更多變數下去討論，衡量每個變數分到的係數配額，會得到更精確的業績值。在不能固定時空背景的情況下，假設得添加更多變數。\n",
    "\n",
    "\n"
   ]
  }
 ],
 "metadata": {
  "anaconda-cloud": {},
  "kernelspec": {
   "display_name": "Python 3",
   "language": "python",
   "name": "python3"
  },
  "language_info": {
   "codemirror_mode": {
    "name": "ipython",
    "version": 3
   },
   "file_extension": ".py",
   "mimetype": "text/x-python",
   "name": "python",
   "nbconvert_exporter": "python",
   "pygments_lexer": "ipython3",
   "version": "3.7.4"
  }
 },
 "nbformat": 4,
 "nbformat_minor": 1
}
