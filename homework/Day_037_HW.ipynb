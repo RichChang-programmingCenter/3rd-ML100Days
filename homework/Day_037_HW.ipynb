{
 "cells": [
  {
   "cell_type": "markdown",
   "metadata": {},
   "source": [
    "## [作業重點]\n",
    "了解線性回歸的模型發展歷程，並了解優勢與劣勢，以及其使用情境"
   ]
  },
  {
   "cell_type": "markdown",
   "metadata": {},
   "source": [
    "## 作業"
   ]
  },
  {
   "cell_type": "markdown",
   "metadata": {},
   "source": [
    "請閱讀以下相關文獻，並回答以下問題\n",
    "\n",
    "[Linear Regression 詳細介紹](https://brohrer.mcknote.com/zh-Hant/how_machine_learning_works/how_linear_regression_works.html)\n",
    "\n",
    "[Logistics Regression 詳細介紹](https://medium.com/@yehjames/%E8%B3%87%E6%96%99%E5%88%86%E6%9E%90-%E6%A9%9F%E5%99%A8%E5%AD%B8%E7%BF%92-%E7%AC%AC3-3%E8%AC%9B-%E7%B7%9A%E6%80%A7%E5%88%86%E9%A1%9E-%E9%82%8F%E8%BC%AF%E6%96%AF%E5%9B%9E%E6%AD%B8-logistic-regression-%E4%BB%8B%E7%B4%B9-a1a5f47017e5)\n"
   ]
  },
  {
   "cell_type": "markdown",
   "metadata": {},
   "source": [
    "### 1. 線性回歸模型能夠準確預測非線性關係的資料集嗎?\n",
    "#### 回歸: 利用過往資料，計算近似線型，用以預測未來。\n",
    "不見得。線性回歸是透過人工方式，將一筆筆數據資料，繪製成一張有線性走勢的模型。這樣的模型在線性上非常適用，但在非線性不知斜率的情況下，不能保證能準確預測。\n",
    "\n",
    "\n",
    "### 2. 回歸模型是否對資料分布有基本假設?\n",
    "#### linear regression 5大假設前提: 樣本點呈線性（Linearity，自變數對應變數的分佈是線型的）、殘差常態性（Normality，所有殘差呈現常態分佈）、殘差獨立性（Independency，各殘差間獨立，前一個殘差不會對下一個殘差造成影響）、殘差等分散性（Homoscedasticity，各殘差的變異數差不多，沒有離群值）、自變數無共線性（Non-Multicollinearity，自變數各自獨立，沒有任何自變數是另一個自變數的線性組合）\n",
    "至於logistic regression資料，當應變數Y是類別資料時使用，有3大優點(不需要線性可分、可以獲得A類跟B類的機率、執行速度非常快)，\n",
    "缺點在於切法不夠漂亮，SVM有很強大的能力能解決這個問題。\n",
    "linear regression需要有看似線性效果的數據，執行的結果會不錯。\n",
    "\n"
   ]
  },
  {
   "cell_type": "code",
   "execution_count": null,
   "metadata": {},
   "outputs": [],
   "source": []
  }
 ],
 "metadata": {
  "kernelspec": {
   "display_name": "Python 3",
   "language": "python",
   "name": "python3"
  },
  "language_info": {
   "codemirror_mode": {
    "name": "ipython",
    "version": 3
   },
   "file_extension": ".py",
   "mimetype": "text/x-python",
   "name": "python",
   "nbconvert_exporter": "python",
   "pygments_lexer": "ipython3",
   "version": "3.7.3"
  }
 },
 "nbformat": 4,
 "nbformat_minor": 2
}
