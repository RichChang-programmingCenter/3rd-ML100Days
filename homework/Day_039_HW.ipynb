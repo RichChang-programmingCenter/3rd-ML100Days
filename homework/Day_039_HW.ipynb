{
 "cells": [
  {
   "cell_type": "markdown",
   "metadata": {},
   "source": [
    "## [作業重點]\n",
    "清楚了解 L1, L2 的意義與差異為何，並了解 LASSO 與 Ridge 之間的差異與使用情境"
   ]
  },
  {
   "cell_type": "markdown",
   "metadata": {},
   "source": [
    "## 作業"
   ]
  },
  {
   "cell_type": "markdown",
   "metadata": {},
   "source": [
    "請閱讀相關文獻，並回答下列問題\n",
    "\n",
    "[脊回歸 (Ridge Regression)](https://blog.csdn.net/daunxx/article/details/51578787)\n",
    "[Linear, Ridge, Lasso Regression 本質區別](https://www.zhihu.com/question/38121173)\n",
    "##### LASSO = Linear Regression + L1\n",
    "#####  Ridge = Linear Regression + L2\n",
    "##### 共同點：\n",
    "##### (1)擬合誤差要小，係數絕對值不能大。\n",
    "##### (2) 隨著懲罰力度增加，擬合力度變差，最終出現underfitting的問題。\n",
    "\n",
    "### 1. LASSO 回歸可以被用來作為 Feature selection 的工具，請了解 LASSO 模型為什麼可用來作 Feature selection\n",
    "#### 不使用「保持自變數係數平衡性」的方法，而是當自變數 Xi 太不顯著時，直接刪除。適合大樣本、不確定哪些特性很顯著時使用，自變數為稀疏矩陣時適用，故名「稀疏迴歸法」。\n",
    "\n",
    "\n",
    "\n",
    "### 2. 當自變數 (X) 存在高度共線性時，Ridge Regression 可以處理這樣的問題嗎?\n",
    "#### 可以。Ridge regression會保持各自變數 Xi 係數的平衡性，不會讓某個自變數的係數 Ci 過大。適合大樣本模型，且ridge regression常用於「已知特性都很顯著」的情況下，不會刪除特性。\n"
   ]
  },
  {
   "cell_type": "code",
   "execution_count": null,
   "metadata": {},
   "outputs": [],
   "source": []
  }
 ],
 "metadata": {
  "kernelspec": {
   "display_name": "Python 3",
   "language": "python",
   "name": "python3"
  },
  "language_info": {
   "codemirror_mode": {
    "name": "ipython",
    "version": 3
   },
   "file_extension": ".py",
   "mimetype": "text/x-python",
   "name": "python",
   "nbconvert_exporter": "python",
   "pygments_lexer": "ipython3",
   "version": "3.7.3"
  }
 },
 "nbformat": 4,
 "nbformat_minor": 2
}
