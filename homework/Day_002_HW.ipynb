{
 "cells": [
  {
   "cell_type": "markdown",
   "metadata": {},
   "source": [
    "## [作業目標]\n",
    "了解機器學習適合應用的領域與範疇。"
   ]
  },
  {
   "cell_type": "markdown",
   "metadata": {},
   "source": [
    "## [作業重點]\n",
    "透過瞭解機器學習的運作方式，找出非常適用機器學習應用的領域及其原因"
   ]
  },
  {
   "cell_type": "markdown",
   "metadata": {},
   "source": [
    "## 作業\n",
    "請找出一個你認為機器學習可以發光發熱的領域並闡述原因? "
   ]
  },
  {
   "cell_type": "code",
   "execution_count": null,
   "metadata": {},
   "outputs": [],
   "source": [
    "   我們都知道，ML能研究和探討的領域非常多：Sophia、Pepper雖然靈活性不如人類，但能取代不必要的人力，節省支出，成為近年AI拓足商業、服務業領域的開門先例。\n",
    "\n",
    "機器學習結合機率學、統計學等大量理論，讓電腦能透過資料自行學會一套技能，這是不用輸入人類規則，電腦能夠自行從歷史資料中學會一套技能、並能逐步完善精進。而隨著電腦運算速度的提升，如上述提及的｢AIＸ機器人｣，未來能更精確地回答問題、表達情意，適切的、流利的傳達想法給他人，情感功能的增強也適用在高齡化社會的長照方案，將更有助於長者的設備、科技，推廣、裨益至社會中。\n",
    "\n",
    "不僅僅是業界、政府推動的長照，當機器人綁上AI，例行性的事務和情感面的傳達都能勝任，我想我們一直主打人類價值的｢創意｣方面，也會受到不少挑戰：倘若給予更多的靈感，機器人有可能大量輸出創意靈感來源。當然，量有了，質還是由人們去評判、去鑑賞，用機器人量產創意或許是個能參考的想法。\n"
   ]
  }
 ],
 "metadata": {
  "kernelspec": {
   "display_name": "Python 3",
   "language": "python",
   "name": "python3"
  },
  "language_info": {
   "codemirror_mode": {
    "name": "ipython",
    "version": 3
   },
   "file_extension": ".py",
   "mimetype": "text/x-python",
   "name": "python",
   "nbconvert_exporter": "python",
   "pygments_lexer": "ipython3",
   "version": "3.7.3"
  }
 },
 "nbformat": 4,
 "nbformat_minor": 2
}
